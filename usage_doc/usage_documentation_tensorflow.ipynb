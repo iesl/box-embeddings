{
 "cells": [
  {
   "cell_type": "markdown",
   "source": [
    "# Learning Box Embeddings (Tensorflow version) with Example\n",
    "\n",
    "This tutorial outlines the different functionalities available within the Box Embeddings package"
   ],
   "metadata": {
    "collapsed": false
   }
  },
  {
   "cell_type": "markdown",
   "source": [
    "### 0. Installing the package on your machine\n",
    "\n",
    "*If you have the repo cloned*\n",
    "```\n",
    "pip install --editable . --user\n",
    "```"
   ],
   "metadata": {
    "collapsed": false
   }
  },
  {
   "cell_type": "markdown",
   "source": [
    "### A. Initialize a box tensor and check its parameters\n",
    "\n",
    "#### Standard Box Tensor\n",
    "To represent a Tensor as a Box, we use the class `BoxTensor`. The necessary parameter is `data` (a tensor)"
   ],
   "metadata": {
    "collapsed": false,
    "pycharm": {
     "name": "#%% md\n"
    }
   }
  },
  {
   "cell_type": "code",
   "execution_count": 14,
   "outputs": [
    {
     "data": {
      "text/plain": "TFBoxTensor(<tf.Tensor: shape=(3, 2, 5), dtype=float64, numpy=\narray([[[0.3190189 , 0.40414471, 0.7793904 , 0.23254109, 0.77295531],\n        [0.63826379, 0.66994828, 0.19170884, 0.49829891, 0.51727324]],\n\n       [[0.18452155, 0.55675524, 0.33556427, 0.1643034 , 0.2435918 ],\n        [0.42749645, 0.42918984, 0.91058294, 0.75946523, 0.56404603]],\n\n       [[0.74176181, 0.98326877, 0.96255359, 0.50936529, 0.27783447],\n        [0.81371884, 0.88146877, 0.9981995 , 0.75038933, 0.42585809]]])>)"
     },
     "execution_count": 14,
     "metadata": {},
     "output_type": "execute_result"
    }
   ],
   "source": [
    "import tensorflow as tf\n",
    "import numpy as np\n",
    "from box_embeddings.parameterizations.tf_box_tensor import TFBoxTensor\n",
    "# Let's create a toy example\n",
    "tensor = tf.constant(np.random.rand(3, 2, 5))\n",
    "\n",
    "box_1 = TFBoxTensor(tensor)\n",
    "box_1"
   ],
   "metadata": {
    "collapsed": false,
    "pycharm": {
     "name": "#%%\n"
    }
   }
  },
  {
   "cell_type": "markdown",
   "source": [
    "We can use several methods to look at the parameters of our box, such as"
   ],
   "metadata": {
    "collapsed": false
   }
  },
  {
   "cell_type": "code",
   "execution_count": 15,
   "outputs": [
    {
     "name": "stdout",
     "output_type": "stream",
     "text": [
      "tf.Tensor(\n",
      "[[0.3190189  0.40414471 0.7793904  0.23254109 0.77295531]\n",
      " [0.18452155 0.55675524 0.33556427 0.1643034  0.2435918 ]\n",
      " [0.74176181 0.98326877 0.96255359 0.50936529 0.27783447]], shape=(3, 5), dtype=float64)\n",
      "tf.Tensor(\n",
      "[[0.63826379 0.66994828 0.19170884 0.49829891 0.51727324]\n",
      " [0.42749645 0.42918984 0.91058294 0.75946523 0.56404603]\n",
      " [0.81371884 0.88146877 0.9981995  0.75038933 0.42585809]], shape=(3, 5), dtype=float64)\n",
      "tf.Tensor(\n",
      "[[0.47864134 0.5370465  0.48554962 0.36542    0.64511428]\n",
      " [0.306009   0.49297254 0.62307361 0.46188432 0.40381892]\n",
      " [0.77774033 0.93236877 0.98037654 0.62987731 0.35184628]], shape=(3, 5), dtype=float64)\n"
     ]
    }
   ],
   "source": [
    "# Lower left coordinate\n",
    "print(box_1.z)\n",
    "# Top right coordinate\n",
    "print(box_1.Z)\n",
    "# Center coordinate\n",
    "print(box_1.centre)"
   ],
   "metadata": {
    "collapsed": false,
    "pycharm": {
     "name": "#%%\n"
    }
   }
  },
  {
   "cell_type": "markdown",
   "source": [
    "Let's broadcast our box to a new shape.. Broadcasting is often needed for different arithmetic operations. The function we\n",
    "will use is `broadcast()`, and the required parameter is `target_shape=()`, which specify the new shape\n",
    "for the box. This is very similar to `numpy.broadcast_to()`"
   ],
   "metadata": {
    "collapsed": false
   }
  },
  {
   "cell_type": "code",
   "execution_count": 22,
   "outputs": [
    {
     "name": "stdout",
     "output_type": "stream",
     "text": [
      "previous shape is: (3, 5)\n",
      "after broadcasting: (3, 1, 5)\n"
     ]
    }
   ],
   "source": [
    "tensor = tf.constant(np.random.rand(3, 2, 5))\n",
    "\n",
    "box_1 = TFBoxTensor(tensor)\n",
    "print('previous shape is:', box_1.box_shape)\n",
    "\n",
    "box_1.broadcast(target_shape=(3, 1, 5))\n",
    "print('after broadcasting:', box_1.box_shape)"
   ],
   "metadata": {
    "collapsed": false,
    "pycharm": {
     "name": "#%%\n"
    }
   }
  },
  {
   "cell_type": "markdown",
   "source": [
    "### 2. Box Volume - TODO (waiting for Tf version)\n",
    "To calculate the volume of a box, we can use\n",
    "To ensure numerical stability, we can use the log version"
   ],
   "metadata": {
    "collapsed": false
   }
  },
  {
   "cell_type": "code",
   "execution_count": 77,
   "outputs": [
    {
     "name": "stdout",
     "output_type": "stream",
     "text": [
      "tensor(2.4414e+16)\n",
      "tensor(37.7339)\n"
     ]
    }
   ],
   "source": [
    "from box_embeddings.modules.volume.soft_volume import soft_volume, log_soft_volume\n",
    "from box_embeddings.modules.volume.bessel_volume import bessel_volume_approx, log_bessel_volume_approx\n",
    "\n",
    "# Create data as tensors, and initialize a box\n",
    "tensor = tf.constant(np.random.rand(3, 2, 5))\n",
    "\n",
    "box_1 = TFBoxTensor(tensor)\n",
    "box_1\n",
    "\n",
    "# Soft volume - TODO\n",
    "\n"
   ],
   "metadata": {
    "collapsed": false,
    "pycharm": {
     "name": "#%%\n"
    }
   }
  },
  {
   "cell_type": "markdown",
   "source": [
    "### 3. Box Intersection - TODO (waiting for Tf version)\n",
    "\n",
    "To calculate the intersection of two boxes (which yields a box), we can use"
   ],
   "metadata": {
    "collapsed": false
   }
  },
  {
   "cell_type": "code",
   "execution_count": 78,
   "outputs": [
    {
     "name": "stdout",
     "output_type": "stream",
     "text": [
      "BoxTensor(z=tensor([1.0000, 0.5000, 0.3333, 0.2500, 0.2000, 0.1667, 0.1429, 0.1250, 0.1111,\n",
      "        0.1000, 0.0909, 0.0833, 0.0769, 0.0714, 0.0667, 0.0625, 0.0588, 0.0556,\n",
      "        0.0526, 0.0500, 0.0476, 0.0455, 0.0435, 0.0417, 0.0400, 0.0385, 0.0370,\n",
      "        0.0357, 0.0345, 0.0333, 0.0323, 0.0312, 0.0303, 0.0294, 0.0286, 0.0278,\n",
      "        0.0270, 0.0263, 0.0256, 0.0250, 0.0244, 0.0238, 0.0233, 0.0227, 0.0222,\n",
      "        0.0217, 0.0213, 0.0208, 0.0204, 0.0200, 0.0196, 0.0192, 0.0189, 0.0185,\n",
      "        0.0182, 0.0179, 0.0175, 0.0172, 0.0169, 0.0167, 0.0164, 0.0161, 0.0159,\n",
      "        0.0156, 0.0154, 0.0152, 0.0149, 0.0147, 0.0145, 0.0143, 0.0141, 0.0139,\n",
      "        0.0137, 0.0135, 0.0133, 0.0132, 0.0130, 0.0128, 0.0127, 0.0125, 0.0123,\n",
      "        0.0122, 0.0120, 0.0119, 0.0118, 0.0116, 0.0115, 0.0114, 0.0112, 0.0111,\n",
      "        0.0110, 0.0109, 0.0108, 0.0106, 0.0105, 0.0104, 0.0103, 0.0102, 0.0101,\n",
      "        0.0100], grad_fn=<MaximumBackward>),\n",
      "Z=tensor([0., 0., 0., 0., 0., 0., 0., 0., 0., 0., 0., 0., 0., 0., 0., 0., 0., 0., 0., 0., 0., 0., 0., 0.,\n",
      "        0., 0., 0., 0., 0., 0., 0., 0., 0., 0., 0., 0., 0., 0., 0., 0., 0., 0., 0., 0., 0., 0., 0., 0.,\n",
      "        0., 0., 0., 0., 0., 0., 0., 0., 0., 0., 0., 0., 0., 0., 0., 0., 0., 0., 0., 0., 0., 0., 0., 0.,\n",
      "        0., 0., 0., 0., 0., 0., 0., 0., 0., 0., 0., 0., 0., 0., 0., 0., 0., 0., 0., 0., 0., 0., 0., 0.,\n",
      "        0., 0., 0., 0.], grad_fn=<MinimumBackward>))\n",
      "BoxTensor(z=tensor([1.0486, 0.5789, 0.4259, 0.3502, 0.3051, 0.2751, 0.2538, 0.2378, 0.2254,\n",
      "        0.2155, 0.2074, 0.2007, 0.1950, 0.1901, 0.1859, 0.1822, 0.1789, 0.1760,\n",
      "        0.1734, 0.1711, 0.1690, 0.1671, 0.1653, 0.1637, 0.1622, 0.1609, 0.1596,\n",
      "        0.1585, 0.1574, 0.1563, 0.1554, 0.1545, 0.1537, 0.1529, 0.1521, 0.1514,\n",
      "        0.1508, 0.1501, 0.1495, 0.1490, 0.1484, 0.1479, 0.1474, 0.1470, 0.1465,\n",
      "        0.1461, 0.1457, 0.1453, 0.1449, 0.1446, 0.1442, 0.1439, 0.1436, 0.1433,\n",
      "        0.1430, 0.1427, 0.1424, 0.1421, 0.1419, 0.1416, 0.1414, 0.1411, 0.1409,\n",
      "        0.1407, 0.1405, 0.1403, 0.1401, 0.1399, 0.1397, 0.1395, 0.1393, 0.1392,\n",
      "        0.1390, 0.1388, 0.1387, 0.1385, 0.1384, 0.1382, 0.1381, 0.1379, 0.1378,\n",
      "        0.1377, 0.1375, 0.1374, 0.1373, 0.1372, 0.1371, 0.1369, 0.1368, 0.1367,\n",
      "        0.1366, 0.1365, 0.1364, 0.1363, 0.1362, 0.1361, 0.1360, 0.1359, 0.1358,\n",
      "        0.1357], grad_fn=<MulBackward0>),\n",
      "Z=tensor([-0.3160, -0.3160, -0.3160, -0.3160, -0.3161, -0.3161, -0.3161, -0.3162,\n",
      "        -0.3162, -0.3162, -0.3163, -0.3163, -0.3163, -0.3164, -0.3164, -0.3164,\n",
      "        -0.3165, -0.3165, -0.3166, -0.3166, -0.3166, -0.3167, -0.3167, -0.3168,\n",
      "        -0.3168, -0.3169, -0.3169, -0.3170, -0.3170, -0.3171, -0.3171, -0.3172,\n",
      "        -0.3172, -0.3173, -0.3174, -0.3174, -0.3175, -0.3176, -0.3176, -0.3177,\n",
      "        -0.3178, -0.3178, -0.3179, -0.3180, -0.3181, -0.3182, -0.3183, -0.3184,\n",
      "        -0.3185, -0.3186, -0.3187, -0.3188, -0.3189, -0.3190, -0.3192, -0.3193,\n",
      "        -0.3194, -0.3196, -0.3197, -0.3199, -0.3200, -0.3202, -0.3204, -0.3206,\n",
      "        -0.3208, -0.3210, -0.3213, -0.3215, -0.3218, -0.3220, -0.3223, -0.3227,\n",
      "        -0.3230, -0.3234, -0.3238, -0.3242, -0.3246, -0.3251, -0.3257, -0.3263,\n",
      "        -0.3270, -0.3277, -0.3285, -0.3294, -0.3305, -0.3316, -0.3330, -0.3345,\n",
      "        -0.3364, -0.3385, -0.3412, -0.3444, -0.3484, -0.3537, -0.3609, -0.3711,\n",
      "        -0.3869, -0.4144, -0.4741, -0.6931], grad_fn=<MulBackward0>))\n"
     ]
    }
   ],
   "source": [
    "from box_embeddings.modules.intersection import hard_intersection, gumbel_intersection\n",
    "\n",
    "# Create data as tensors, and initialize two boxes, box_1 and box_2\n",
    "tensor1 = tf.constant(np.random.rand(3, 2, 5))\n",
    "tensor2 = tf.constant(np.random.rand(3, 2, 5))\n",
    "box_1 = TFBoxTensor(tensor1)\n",
    "box_1 = TFBoxTensor(tensor2)\n",
    "box_1\n",
    "box_2\n",
    "\n",
    "# Intersection of box_1 and box_2\n"
   ],
   "metadata": {
    "collapsed": false,
    "pycharm": {
     "name": "#%%\n"
    }
   }
  },
  {
   "cell_type": "markdown",
   "source": [
    "### 4. Box Training - TODO (waiting for Tf version)\n",
    "In the following example, we train a simple box `box_2` to require it to be completely contained inside another box\n",
    "`box_1`. The training loop returns the best `box_2`."
   ],
   "metadata": {
    "collapsed": false
   }
  },
  {
   "cell_type": "code",
   "execution_count": 79,
   "outputs": [
    {
     "name": "stdout",
     "output_type": "stream",
     "text": [
      "Iteration 0, loss = 61.7071\n",
      "Iteration 1, loss = 58.2051\n",
      "Iteration 2, loss = 54.6527\n",
      "Iteration 3, loss = 51.0442\n",
      "Iteration 4, loss = 47.3736\n",
      "Iteration 5, loss = 43.6348\n",
      "Iteration 6, loss = 39.8212\n",
      "Iteration 7, loss = 35.9260\n",
      "Iteration 8, loss = 31.9714\n",
      "Iteration 9, loss = 27.9444\n",
      "Iteration 10, loss = 23.8155\n",
      "Iteration 11, loss = 19.6192\n",
      "Iteration 12, loss = 15.3355\n",
      "Iteration 13, loss = 11.0073\n",
      "Iteration 14, loss = 6.7032\n",
      "Iteration 15, loss = 2.5618\n",
      "Iteration 16, loss = 0.0000\n",
      "Iteration 17, loss = 0.0000\n",
      "Iteration 18, loss = 0.0000\n",
      "Iteration 19, loss = 0.0000\n"
     ]
    },
    {
     "data": {
      "text/plain": "BoxTensor(tensor([[ 9.0841e-01,  3.8041e-01,  2.0479e-01,  1.1735e-01,  6.4819e-02,\n          2.9872e-02,  4.9503e-03, -1.3714e-02, -2.8212e-02, -3.9795e-02,\n         -4.9260e-02, -5.7138e-02, -6.3795e-02, -6.9492e-02, -7.4423e-02,\n         -7.8730e-02, -8.2524e-02, -8.5890e-02, -8.8896e-02, -9.1595e-02,\n         -9.4031e-02, -9.6240e-02, -9.8251e-02, -1.0009e-01, -1.0178e-01,\n         -1.0333e-01, -1.0476e-01, -1.0608e-01, -1.0730e-01, -1.0844e-01,\n         -1.0950e-01, -1.1049e-01, -1.1141e-01, -1.1227e-01, -1.1308e-01,\n         -1.1384e-01, -1.1455e-01, -1.1521e-01, -1.1584e-01, -1.1642e-01,\n         -1.1698e-01, -1.1750e-01, -1.1798e-01, -1.1844e-01, -1.1887e-01,\n         -1.1928e-01, -1.1966e-01, -1.2001e-01, -1.2035e-01, -1.2066e-01,\n         -1.2095e-01, -1.2122e-01, -1.2147e-01, -1.2169e-01, -1.2191e-01,\n         -1.2210e-01, -1.2227e-01, -1.2242e-01, -1.2256e-01, -1.2268e-01,\n         -1.2278e-01, -1.2286e-01, -1.2292e-01, -1.2296e-01, -1.2299e-01,\n         -1.2299e-01, -1.2297e-01, -1.2293e-01, -1.2286e-01, -1.2277e-01,\n         -1.2266e-01, -1.2251e-01, -1.2234e-01, -1.2213e-01, -1.2188e-01,\n         -1.2160e-01, -1.2127e-01, -1.2090e-01, -1.2047e-01, -1.1998e-01,\n         -1.1941e-01, -1.1877e-01, -1.1804e-01, -1.1720e-01, -1.1623e-01,\n         -1.1520e-01, -1.1400e-01, -1.1258e-01, -1.1091e-01, -1.0890e-01,\n         -1.0646e-01, -1.0345e-01, -9.9842e-02, -9.5299e-02, -8.9200e-02,\n         -8.1209e-02, -6.9771e-02, -5.2553e-02, -2.5121e-02,  1.0000e-02],\n        [-2.6162e-02, -6.8888e-02, -2.2585e-02, -7.3182e-02, -5.8129e-02,\n         -4.8133e-02, -4.1035e-02, -3.5752e-02, -3.1682e-02, -2.8461e-02,\n         -2.5859e-02, -2.3723e-02, -2.1945e-02, -2.0449e-02, -1.9181e-02,\n         -1.8098e-02, -1.7169e-02, -1.6368e-02, -1.5677e-02, -1.5079e-02,\n         -1.4563e-02, -1.4118e-02, -1.3735e-02, -1.3408e-02, -1.3131e-02,\n         -1.2899e-02, -1.2708e-02, -1.2554e-02, -1.2435e-02, -1.2348e-02,\n         -1.2291e-02, -1.2262e-02, -1.2260e-02, -1.2284e-02, -1.2331e-02,\n         -1.2402e-02, -1.2496e-02, -1.2612e-02, -1.2751e-02, -1.2910e-02,\n         -1.3091e-02, -1.3292e-02, -1.3515e-02, -1.3760e-02, -1.4026e-02,\n         -1.4314e-02, -1.4624e-02, -1.4957e-02, -1.5314e-02, -1.5695e-02,\n         -1.6101e-02, -1.6532e-02, -1.6991e-02, -1.7478e-02, -1.7995e-02,\n         -1.8543e-02, -1.9124e-02, -1.9739e-02, -2.0392e-02, -2.1083e-02,\n         -2.1816e-02, -2.2594e-02, -2.3419e-02, -2.4295e-02, -2.5227e-02,\n         -2.6218e-02, -2.7274e-02, -2.8400e-02, -2.9602e-02, -3.0888e-02,\n         -3.2266e-02, -3.3745e-02, -3.5335e-02, -3.7049e-02, -3.8900e-02,\n         -4.0906e-02, -4.3084e-02, -4.5458e-02, -4.8053e-02, -5.0902e-02,\n         -5.4041e-02, -5.7517e-02, -6.1385e-02, -6.5715e-02, -3.2651e-04,\n         -5.7558e-03, -1.1967e-02, -1.9141e-02, -2.7518e-02, -3.7425e-02,\n         -4.9322e-02, -6.3870e-02, -1.1354e-02, -3.4311e-02, -6.4930e-02,\n         -3.6384e-02, -2.8011e-02, -5.8919e-02, -4.0434e-02,  0.0000e+00]],\n       requires_grad=True))"
     },
     "execution_count": 79,
     "metadata": {},
     "output_type": "execute_result"
    }
   ],
   "source": [
    "# Training boxes\n",
    "\n",
    "# Create data as tensors, and initialize two boxes, box_1 and box_2\n",
    "tensor1 = tf.constant(np.random.rand(3, 2, 5))\n",
    "tensor2 = tf.constant(np.random.rand(3, 2, 5))\n",
    "box_1 = TFBoxTensor(tensor1)\n",
    "box_1 = TFBoxTensor(tensor2)\n",
    "box_1\n",
    "box_2\n",
    "\n",
    "learning_rate = 0.1\n",
    "\n",
    "def train(box_1, box_2, optimizer, epochs=1):\n",
    "    best_loss = int()\n",
    "    best_box_2 = None\n",
    "    for e in range(epochs):\n",
    "        loss = log_soft_volume(box_2)-log_soft_volume(hard_intersection(box_1, box_2))\n",
    "        optimizer.zero_grad()\n",
    "        loss.backward()\n",
    "        optimizer.step()\n",
    "        if best_loss < loss.item():\n",
    "            best_loss = loss.item()\n",
    "            best_box_2 = box_2\n",
    "        print('Iteration %d, loss = %.4f' % (e, loss.item()))\n",
    "    return best_box_2\n",
    "\n",
    "optimizer =  torch.optim.SGD([data_y], lr=learning_rate)\n",
    "train(box_1, box_2, optimizer, epochs=20)"
   ],
   "metadata": {
    "collapsed": false,
    "pycharm": {
     "name": "#%%\n"
    }
   }
  }
 ],
 "metadata": {
  "kernelspec": {
   "display_name": "Python 3",
   "language": "python",
   "name": "python3"
  },
  "language_info": {
   "codemirror_mode": {
    "name": "ipython",
    "version": 2
   },
   "file_extension": ".py",
   "mimetype": "text/x-python",
   "name": "python",
   "nbconvert_exporter": "python",
   "pygments_lexer": "ipython2",
   "version": "2.7.6"
  }
 },
 "nbformat": 4,
 "nbformat_minor": 0
}
