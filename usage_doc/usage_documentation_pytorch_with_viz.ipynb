{
 "cells": [
  {
   "cell_type": "markdown",
   "source": [
    "# Learning Box Embeddings with Example\n",
    "\n",
    "This tutorial outlines the different functionalities available within the Box Embeddings package"
   ],
   "metadata": {
    "collapsed": false
   }
  },
  {
   "cell_type": "markdown",
   "source": [
    "### 0. Installing the package on your machine\n",
    "\n",
    "*If you have the repo cloned*\n",
    "```\n",
    "pip install --editable . --user\n",
    "```"
   ],
   "metadata": {
    "collapsed": false
   }
  },
  {
   "cell_type": "markdown",
   "source": [
    "### A. Initialize a box tensor and check its parameters\n",
    "\n",
    "#### Standard Box Tensor\n",
    "To represent a Tensor as a Box, we use the class `BoxTensor`. The necessary parameter is `data` (a tensor)"
   ],
   "metadata": {
    "collapsed": false,
    "pycharm": {
     "name": "#%% md\n"
    }
   }
  },
  {
   "cell_type": "code",
   "execution_count": 2,
   "outputs": [
    {
     "data": {
      "text/plain": "BoxTensor(tensor([[[ 1,  2],\n         [-1,  5]],\n\n        [[ 0,  2],\n         [-2,  3]],\n\n        [[-3,  3],\n         [-2,  4]]]))"
     },
     "execution_count": 2,
     "metadata": {},
     "output_type": "execute_result"
    }
   ],
   "source": [
    "from box_embeddings.parameterizations.box_tensor import *\n",
    "# Let's create a toy example\n",
    "x_min = [-2.0]*50\n",
    "x_max = [0.0]*50\n",
    "data_x = torch.tensor([[[1,2],[-1,5]], [[0,2],[-2,3]], [[-3,3],[-2,4]]])\n",
    "#tensor = torch.tensor(np.random.rand(3, 2, 2))\n",
    "box_1 = BoxTensor(data_x)\n",
    "box_1"
   ],
   "metadata": {
    "collapsed": false,
    "pycharm": {
     "name": "#%%\n"
    }
   }
  },
  {
   "cell_type": "markdown",
   "source": [
    "We can use several methods to look at the parameters of our box, such as"
   ],
   "metadata": {
    "collapsed": false
   }
  },
  {
   "cell_type": "code",
   "execution_count": 3,
   "outputs": [
    {
     "name": "stdout",
     "output_type": "stream",
     "text": [
      "tensor([[ 1,  2],\n",
      "        [ 0,  2],\n",
      "        [-3,  3]])\n",
      "tensor([[-1,  5],\n",
      "        [-2,  3],\n",
      "        [-2,  4]])\n",
      "tensor([[ 0.0000,  3.5000],\n",
      "        [-1.0000,  2.5000],\n",
      "        [-2.5000,  3.5000]])\n"
     ]
    }
   ],
   "source": [
    "# Lower left coordinate\n",
    "print(box_1.z)\n",
    "# Top right coordinate\n",
    "print(box_1.Z)\n",
    "# Center coordinate\n",
    "print(box_1.centre)"
   ],
   "metadata": {
    "collapsed": false,
    "pycharm": {
     "name": "#%%\n"
    }
   }
  },
  {
   "cell_type": "markdown",
   "source": [
    "Let's broadcast our box to a new shape.. Broadcasting is often needed for different arithmetic operations. The function we\n",
    "will use is `broadcast()`, and the required parameter is `target_shape=()`, which specify the new shape\n",
    "for the box. This is very similar to `numpy.broadcast_to()`"
   ],
   "metadata": {
    "collapsed": false
   }
  },
  {
   "cell_type": "code",
   "execution_count": 4,
   "outputs": [
    {
     "name": "stdout",
     "output_type": "stream",
     "text": [
      "previous shape is: (2, 3)\n",
      "after broadcasting: (2, 1, 3)\n"
     ]
    }
   ],
   "source": [
    "data = torch.tensor([[[1, 2, 3], [3, 4, 6]],\n",
    "          [[5, 6, 8], [7, 9, 5]]])\n",
    "box = BoxTensor(data)\n",
    "print('previous shape is:', box.box_shape)\n",
    "box.broadcast(target_shape=(2, 1, 3))\n",
    "print('after broadcasting:', box.box_shape)"
   ],
   "metadata": {
    "collapsed": false,
    "pycharm": {
     "name": "#%%\n"
    }
   }
  },
  {
   "cell_type": "markdown",
   "source": [
    "### 2. Box Volume\n",
    "To calculate the volume of a box, we can use either the `soft_volume`, or the Bessel volume via `bessel_volume_approx`.\n",
    "To ensure numerical stability, we can use the log version via `log_soft_volume` or `log_bessel_volume_approx`"
   ],
   "metadata": {
    "collapsed": false
   }
  },
  {
   "cell_type": "code",
   "execution_count": 34,
   "outputs": [
    {
     "name": "stdout",
     "output_type": "stream",
     "text": [
      "tensor(75.4679)\n",
      "tensor(5.9605e+32)\n"
     ]
    }
   ],
   "source": [
    "from box_embeddings.modules.volume.soft_volume import soft_volume\n",
    "\n",
    "# Create data as tensors, and initialize a box\n",
    "data = torch.tensor([[-2.0]*100, [0.0]*100])\n",
    "box_1 = BoxTensor(data)\n",
    "\n",
    "# Logged Soft volume\n",
    "print(soft_volume(box_1))\n",
    "\n",
    "#Soft volume\n",
    "print(soft_volume(box_1, log_scale=False))"
   ],
   "metadata": {
    "collapsed": false,
    "pycharm": {
     "name": "#%%\n"
    }
   }
  },
  {
   "cell_type": "markdown",
   "source": [
    "### 3. Box Intersection\n",
    "\n",
    "To calculate the intersection of two boxes (which yields a box), we can use either `hard_intersection` or\n",
    "`gumbel_intersection`"
   ],
   "metadata": {
    "collapsed": false
   }
  },
  {
   "cell_type": "code",
   "execution_count": 35,
   "outputs": [
    {
     "name": "stdout",
     "output_type": "stream",
     "text": [
      "BoxTensor(z=tensor([1.0000, 0.5000, 0.3333, 0.2500, 0.2000, 0.1667, 0.1429, 0.1250, 0.1111,\n",
      "        0.1000, 0.0909, 0.0833, 0.0769, 0.0714, 0.0667, 0.0625, 0.0588, 0.0556,\n",
      "        0.0526, 0.0500, 0.0476, 0.0455, 0.0435, 0.0417, 0.0400, 0.0385, 0.0370,\n",
      "        0.0357, 0.0345, 0.0333, 0.0323, 0.0312, 0.0303, 0.0294, 0.0286, 0.0278,\n",
      "        0.0270, 0.0263, 0.0256, 0.0250, 0.0244, 0.0238, 0.0233, 0.0227, 0.0222,\n",
      "        0.0217, 0.0213, 0.0208, 0.0204, 0.0200, 0.0196, 0.0192, 0.0189, 0.0185,\n",
      "        0.0182, 0.0179, 0.0175, 0.0172, 0.0169, 0.0167, 0.0164, 0.0161, 0.0159,\n",
      "        0.0156, 0.0154, 0.0152, 0.0149, 0.0147, 0.0145, 0.0143, 0.0141, 0.0139,\n",
      "        0.0137, 0.0135, 0.0133, 0.0132, 0.0130, 0.0128, 0.0127, 0.0125, 0.0123,\n",
      "        0.0122, 0.0120, 0.0119, 0.0118, 0.0116, 0.0115, 0.0114, 0.0112, 0.0111,\n",
      "        0.0110, 0.0109, 0.0108, 0.0106, 0.0105, 0.0104, 0.0103, 0.0102, 0.0101,\n",
      "        0.0100], grad_fn=<MaximumBackward>),\n",
      "Z=tensor([0., 0., 0., 0., 0., 0., 0., 0., 0., 0., 0., 0., 0., 0., 0., 0., 0., 0., 0., 0., 0., 0., 0., 0.,\n",
      "        0., 0., 0., 0., 0., 0., 0., 0., 0., 0., 0., 0., 0., 0., 0., 0., 0., 0., 0., 0., 0., 0., 0., 0.,\n",
      "        0., 0., 0., 0., 0., 0., 0., 0., 0., 0., 0., 0., 0., 0., 0., 0., 0., 0., 0., 0., 0., 0., 0., 0.,\n",
      "        0., 0., 0., 0., 0., 0., 0., 0., 0., 0., 0., 0., 0., 0., 0., 0., 0., 0., 0., 0., 0., 0., 0., 0.,\n",
      "        0., 0., 0., 0.], grad_fn=<MinimumBackward>))\n",
      "BoxTensor(z=tensor([1.0486, 0.5789, 0.4259, 0.3502, 0.3051, 0.2751, 0.2538, 0.2378, 0.2254,\n",
      "        0.2155, 0.2074, 0.2007, 0.1950, 0.1901, 0.1859, 0.1822, 0.1789, 0.1760,\n",
      "        0.1734, 0.1711, 0.1690, 0.1671, 0.1653, 0.1637, 0.1622, 0.1609, 0.1596,\n",
      "        0.1585, 0.1574, 0.1563, 0.1554, 0.1545, 0.1537, 0.1529, 0.1521, 0.1514,\n",
      "        0.1508, 0.1501, 0.1495, 0.1490, 0.1484, 0.1479, 0.1474, 0.1470, 0.1465,\n",
      "        0.1461, 0.1457, 0.1453, 0.1449, 0.1446, 0.1442, 0.1439, 0.1436, 0.1433,\n",
      "        0.1430, 0.1427, 0.1424, 0.1421, 0.1419, 0.1416, 0.1414, 0.1411, 0.1409,\n",
      "        0.1407, 0.1405, 0.1403, 0.1401, 0.1399, 0.1397, 0.1395, 0.1393, 0.1392,\n",
      "        0.1390, 0.1388, 0.1387, 0.1385, 0.1384, 0.1382, 0.1381, 0.1379, 0.1378,\n",
      "        0.1377, 0.1375, 0.1374, 0.1373, 0.1372, 0.1371, 0.1369, 0.1368, 0.1367,\n",
      "        0.1366, 0.1365, 0.1364, 0.1363, 0.1362, 0.1361, 0.1360, 0.1359, 0.1358,\n",
      "        0.1357], grad_fn=<MulBackward0>),\n",
      "Z=tensor([-0.3160, -0.3160, -0.3160, -0.3160, -0.3161, -0.3161, -0.3161, -0.3162,\n",
      "        -0.3162, -0.3162, -0.3163, -0.3163, -0.3163, -0.3164, -0.3164, -0.3164,\n",
      "        -0.3165, -0.3165, -0.3166, -0.3166, -0.3166, -0.3167, -0.3167, -0.3168,\n",
      "        -0.3168, -0.3169, -0.3169, -0.3170, -0.3170, -0.3171, -0.3171, -0.3172,\n",
      "        -0.3172, -0.3173, -0.3174, -0.3174, -0.3175, -0.3176, -0.3176, -0.3177,\n",
      "        -0.3178, -0.3178, -0.3179, -0.3180, -0.3181, -0.3182, -0.3183, -0.3184,\n",
      "        -0.3185, -0.3186, -0.3187, -0.3188, -0.3189, -0.3190, -0.3192, -0.3193,\n",
      "        -0.3194, -0.3196, -0.3197, -0.3199, -0.3200, -0.3202, -0.3204, -0.3206,\n",
      "        -0.3208, -0.3210, -0.3213, -0.3215, -0.3218, -0.3220, -0.3223, -0.3227,\n",
      "        -0.3230, -0.3234, -0.3238, -0.3242, -0.3246, -0.3251, -0.3257, -0.3263,\n",
      "        -0.3270, -0.3277, -0.3285, -0.3294, -0.3305, -0.3316, -0.3330, -0.3345,\n",
      "        -0.3364, -0.3385, -0.3412, -0.3444, -0.3484, -0.3537, -0.3609, -0.3711,\n",
      "        -0.3869, -0.4144, -0.4741, -0.6931], grad_fn=<MulBackward0>))\n"
     ]
    }
   ],
   "source": [
    "from box_embeddings.modules.intersection import hard_intersection, gumbel_intersection\n",
    "\n",
    "# Create data as tensors, and initialize two boxes, box_1 and box_2\n",
    "x_min = [-2.0]*100\n",
    "x_max = [0.0]*100\n",
    "data_x = torch.tensor([x_min, x_max])\n",
    "box_1 = BoxTensor(data_x)\n",
    "\n",
    "y_min = [1/n for n in range(1, 101)]\n",
    "y_max = [1 - k for k in reversed(y_min)]\n",
    "data_y = torch.tensor([y_min, y_max], requires_grad=True)\n",
    "box_2 = BoxTensor(data_y)\n",
    "\n",
    "# Intersection of box_1 and box_2\n",
    "print(hard_intersection(box_1, box_2))\n",
    "\n",
    "# Gumbel intersection of box_1 and box_2\n",
    "print(gumbel_intersection(box_1, box_2))"
   ],
   "metadata": {
    "collapsed": false,
    "pycharm": {
     "name": "#%%\n"
    }
   }
  },
  {
   "cell_type": "markdown",
   "source": [
    "### 4. Box Training\n",
    "In the following example, we train a simple box `box_2` to require it to be completely contained inside another box\n",
    "`box_1`. The training loop returns the best `box_1` and `box_2`."
   ],
   "metadata": {
    "collapsed": false
   }
  },
  {
   "cell_type": "code",
   "execution_count": 9,
   "outputs": [
    {
     "name": "stdout",
     "output_type": "stream",
     "text": [
      "Iteration 0, loss = 67.5864\n",
      "Iteration 1, loss = 1.9609\n",
      "Iteration 2, loss = 1.2382\n",
      "Iteration 3, loss = 0.8086\n",
      "Iteration 4, loss = 0.5695\n",
      "Iteration 5, loss = 0.4213\n",
      "Iteration 6, loss = 0.3193\n",
      "Iteration 7, loss = 0.2446\n",
      "Iteration 8, loss = 0.2030\n",
      "Iteration 9, loss = 0.1628\n",
      "Iteration 10, loss = 0.1237\n",
      "Iteration 11, loss = 0.0855\n",
      "Iteration 12, loss = 0.0478\n",
      "Iteration 13, loss = 0.0105\n",
      "Iteration 14, loss = 0.0000\n",
      "Iteration 15, loss = 0.0000\n",
      "Iteration 16, loss = 0.0000\n",
      "Iteration 17, loss = 0.0000\n",
      "Iteration 18, loss = 0.0000\n",
      "Iteration 19, loss = 0.0000\n",
      "BoxTensor(tensor([[-2.0000, -2.0000, -2.0000, -2.0000, -2.0000, -2.0000, -2.0000, -2.0000,\n",
      "         -2.0000, -2.0000, -2.0000, -2.0000, -2.0000, -2.0000, -2.0000],\n",
      "        [ 1.0000,  0.9967,  0.9827,  1.0260,  1.0031,  0.9823,  0.9643,  1.0109,\n",
      "          0.9980,  0.9869,  1.0375,  1.0291,  1.0792,  1.1801,  1.4934]],\n",
      "       dtype=torch.float64, requires_grad=True))\n",
      "BoxTensor(tensor([[ 0.6114, -0.3223, -0.5149, -0.5917, -0.6285, -0.6475, -0.6580, -0.6651,\n",
      "         -0.6710, -0.6764, -0.6828, -0.6924, -0.7084, -0.7424, -0.8582],\n",
      "        [ 0.4553,  0.8971,  0.9425,  0.8990,  0.9164,  0.9318,  0.9476,  0.9043,\n",
      "          0.9270,  0.9561,  0.9362,  0.9966,  1.0394,  1.1337,  1.4315]],\n",
      "       dtype=torch.float64, requires_grad=True))\n"
     ]
    }
   ],
   "source": [
    "# Initialize and Training\n",
    "import numpy\n",
    "from box_embeddings.parameterizations.box_tensor import BoxTensor\n",
    "from box_embeddings.modules.volume.volume import Volume\n",
    "from box_embeddings.modules.intersection import Intersection\n",
    "\n",
    "x_z = numpy.array([-2.0 for n in range(1, 16)])\n",
    "x_Z = numpy.array([0.0 for k in (x_z)])\n",
    "data_x = torch.tensor([x_z, x_Z], requires_grad=True)\n",
    "box_1 = BoxTensor(data_x)\n",
    "\n",
    "y_z = numpy.array([1/n for n in range(1, 16)])\n",
    "y_Z = numpy.array([1 + k for k in reversed(y_z)])\n",
    "data_y = torch.tensor([y_z, y_Z], requires_grad=True)\n",
    "box_2 = BoxTensor(data_y)\n",
    "\n",
    "# Training loop\n",
    "learning_rate = 0.1\n",
    "def train(box_1, box_2, optimizer, epochs=1):\n",
    "    best_loss = int()\n",
    "    best_box_1 = None\n",
    "    best_box_2 = None\n",
    "    box_vol = Volume(volume_temperature=0.1, intersection_temperature=0.0001)\n",
    "    box_int = Intersection(intersection_temperature=0.0001)\n",
    "    for e in range(epochs):\n",
    "        loss = box_vol(box_2) - box_vol(box_int(box_1, box_2))\n",
    "        optimizer.zero_grad()\n",
    "        loss.backward()\n",
    "        optimizer.step()\n",
    "        if best_loss < loss.item():\n",
    "            best_loss = loss.item()\n",
    "            best_box_2 = box_2\n",
    "            best_box_1 = box_1\n",
    "        print('Iteration %d, loss = %.4f' % (e, loss.item()))\n",
    "    return best_box_1, best_box_2\n",
    "\n",
    "optimizer =  torch.optim.SGD([data_x, data_y], lr=learning_rate)\n",
    "contained_box1, contained_box2 = train(box_1, box_2, optimizer, epochs=20)\n",
    "# Print the coordinates of the boxes after training\n",
    "print(contained_box1)\n",
    "print(contained_box2)"
   ],
   "metadata": {
    "collapsed": false,
    "pycharm": {
     "name": "#%%\n"
    }
   }
  },
  {
   "cell_type": "markdown",
   "source": [
    "Visualization of the boxes before and after training"
   ],
   "metadata": {
    "collapsed": false
   }
  },
  {
   "cell_type": "code",
   "execution_count": 10,
   "outputs": [
    {
     "data": {
      "text/plain": "<Figure size 432x576 with 1 Axes>",
      "image/png": "[encoded data removed]"
     },
     "metadata": {
      "needs_background": "light"
     },
     "output_type": "display_data"
    },
    {
     "data": {
      "text/plain": "<Figure size 432x576 with 1 Axes>",
      "image/png": "[encoded data removed]"
     },
     "metadata": {
      "needs_background": "light"
     },
     "output_type": "display_data"
    }
   ],
   "source": [
    "from typing import List\n",
    "from matplotlib import pyplot as plt\n",
    "import matplotlib\n",
    "# Visualization functions\n",
    "def plot_dimension_interval(ax, cmap, dim_: int, x_box: List[float], y_box: List[float], x_color='#FFB570', y_color='#67AB9F',\n",
    "                            label=False):\n",
    "    if not label:\n",
    "        ax.hlines(dim_, x_box[0], x_box[1], x_color, lw=10)\n",
    "        ax.hlines(dim_, y_box[0], y_box[1], y_color, lw=7)\n",
    "    else:\n",
    "        ax.hlines(dim_, x_box[0], x_box[1], x_color, lw=10, label='X Box Intervals', cmap=cmap)\n",
    "        ax.hlines(dim_, y_box[0], y_box[1], y_color, lw=7, label='Y Box Intervals', cmap=cmap)\n",
    "\n",
    "def plot_x_and_y_box(axs, cmap, x_z, x_Z, y_z, y_Z):\n",
    "    for dim_ in range(y_z.shape[0]):\n",
    "        p = dim_ % axs.shape[0]\n",
    "        plot_dimension_interval(axs[p][0], cmap, dim_, [x_z[dim_], x_Z[dim_]], [y_z[dim_], y_Z[dim_]], label=(dim_==0))\n",
    "    for i in range(axs.shape[0]):\n",
    "        axs[i][0].yaxis.set_ticklabels([])\n",
    "    axs[0][0].legend(bbox_to_anchor=(0.5, 1.1), loc=\"upper center\")\n",
    "\n",
    "# Plot the coordinates of the boxes before training\n",
    "fig, axs = plt.subplots(1, 1, figsize=(6,8))\n",
    "axs = numpy.array([axs], dtype=object).reshape(1, 1)\n",
    "cmap = matplotlib.cm.get_cmap('Wistia')\n",
    "mappable = matplotlib.cm.ScalarMappable(cmap=cmap)\n",
    "plot_x_and_y_box(axs, cmap, x_z, x_Z, y_z, y_Z)\n",
    "plt.show()\n",
    "\n",
    "# Plot the coordinates of the boxes after training\n",
    "fig, axs = plt.subplots(1, 1, figsize=(6,8))\n",
    "axs = numpy.array([axs], dtype=object).reshape(1, 1)\n",
    "plot_x_and_y_box(axs, cmap, contained_box1.z.detach().numpy(), contained_box1.Z.detach().numpy(),\n",
    "                 contained_box2.z.detach().numpy(), contained_box2.Z.detach().numpy())\n",
    "plt.show()\n"
   ],
   "metadata": {
    "collapsed": false,
    "pycharm": {
     "name": "#%%\n"
    }
   }
  }
 ],
 "metadata": {
  "kernelspec": {
   "display_name": "Python 3",
   "language": "python",
   "name": "python3"
  },
  "language_info": {
   "codemirror_mode": {
    "name": "ipython",
    "version": 2
   },
   "file_extension": ".py",
   "mimetype": "text/x-python",
   "name": "python",
   "nbconvert_exporter": "python",
   "pygments_lexer": "ipython2",
   "version": "2.7.6"
  }
 },
 "nbformat": 4,
 "nbformat_minor": 0
}
